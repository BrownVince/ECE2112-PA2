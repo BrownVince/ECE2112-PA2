{
 "cells": [
  {
   "cell_type": "code",
   "execution_count": 3,
   "id": "9ef7d03e-5eca-430e-8b86-a7c7f5fead47",
   "metadata": {},
   "outputs": [],
   "source": [
    "import numpy as np #Import numpy as np in order to be easily called"
   ]
  },
  {
   "cell_type": "markdown",
   "id": "f3888d48-b554-4bb3-91a6-ad1e944fd175",
   "metadata": {},
   "source": [
    "# NORMALIZATION PROBLEM\n",
    "### This problem involves the normalization of a set of values in a data set, which features centering, the subtraction of values from the mean, and scaling, the division of the centered values from the standard deviation"
   ]
  },
  {
   "cell_type": "code",
   "execution_count": 36,
   "id": "b1b2685f-3a9a-40a2-a5ac-ea5347cd227d",
   "metadata": {},
   "outputs": [
    {
     "name": "stdout",
     "output_type": "stream",
     "text": [
      "Random Array: \n",
      " [[31  4 13 59 48]\n",
      " [98 74 77 25 57]\n",
      " [13  5 91  6 49]\n",
      " [19 26 56 81 28]\n",
      " [20 81 91 73 55]]\n"
     ]
    }
   ],
   "source": [
    "X = np.random.choice(100, size=(5,5)) #Create a random 5 by 5 array\n",
    "print('Random Array: \\n', X)"
   ]
  },
  {
   "cell_type": "code",
   "execution_count": 38,
   "id": "0fd58dac-0285-4652-af95-b53c5a4818cd",
   "metadata": {},
   "outputs": [
    {
     "name": "stdout",
     "output_type": "stream",
     "text": [
      "\n",
      "Mean:  47.2 \n",
      "Standard Deviation:  29.76\n"
     ]
    }
   ],
   "source": [
    "mean = X.mean() #Extract the mean of the given array\n",
    "std = X.std() #Extract the standard deviation of the given array\n",
    "print('\\nMean: ', mean, '\\nStandard Deviation: ', round(std,2))"
   ]
  },
  {
   "cell_type": "code",
   "execution_count": 40,
   "id": "91cb84ca-4a95-4f5c-909c-28bfe128d01e",
   "metadata": {},
   "outputs": [
    {
     "name": "stdout",
     "output_type": "stream",
     "text": [
      "\n",
      "Normalized Array: \n",
      " [[-0.54432337 -1.45152899 -1.14912712  0.39648246  0.02688017]\n",
      " [ 1.70689057  0.90048558  1.0012862  -0.74592462  0.32928204]\n",
      " [-1.14912712 -1.41792878  1.47168912 -1.38432858  0.06048037]\n",
      " [-0.94752587 -0.71232441  0.29568183  1.13568704 -0.645124  ]\n",
      " [-0.91392566  1.13568704  1.47168912  0.86688537  0.26208162]]\n"
     ]
    }
   ],
   "source": [
    "#Calculate for the normalized array\n",
    "cent = (X-mean) #Centering is the subtraction of data from the mean\n",
    "scale = cent/std #Dividing it by the std is scaling\n",
    "print('\\nNormalized Array: \\n', scale)"
   ]
  },
  {
   "cell_type": "code",
   "execution_count": 42,
   "id": "af51c1d7-e975-4a5a-b64d-8372f18eef87",
   "metadata": {},
   "outputs": [],
   "source": [
    "np.save('X_normalized.npy', scale) #Save the normalized array in a .npy file"
   ]
  },
  {
   "cell_type": "code",
   "execution_count": 44,
   "id": "b0f128f3-cabc-46d4-bb64-8b076318a074",
   "metadata": {},
   "outputs": [
    {
     "data": {
      "text/plain": [
       "array([[-0.54432337, -1.45152899, -1.14912712,  0.39648246,  0.02688017],\n",
       "       [ 1.70689057,  0.90048558,  1.0012862 , -0.74592462,  0.32928204],\n",
       "       [-1.14912712, -1.41792878,  1.47168912, -1.38432858,  0.06048037],\n",
       "       [-0.94752587, -0.71232441,  0.29568183,  1.13568704, -0.645124  ],\n",
       "       [-0.91392566,  1.13568704,  1.47168912,  0.86688537,  0.26208162]])"
      ]
     },
     "execution_count": 44,
     "metadata": {},
     "output_type": "execute_result"
    }
   ],
   "source": [
    "np.load('X_normalized.npy') #Load the file to check if the array is saved successfully"
   ]
  },
  {
   "cell_type": "markdown",
   "id": "361cd918-530c-4e2a-a921-44d53f4c8205",
   "metadata": {},
   "source": [
    "# DIVISIBLE BY 3 PROBLEM\n",
    "### This problem checks the numbers that are divisible by 3 in the set of values in an array of positive integers "
   ]
  },
  {
   "cell_type": "code",
   "execution_count": 47,
   "id": "732404ce-7257-4d55-8846-9feff40c2b14",
   "metadata": {},
   "outputs": [
    {
     "name": "stdout",
     "output_type": "stream",
     "text": [
      "10by10 Squared Array: \n",
      " [[    1     4     9    16    25    36    49    64    81   100]\n",
      " [  121   144   169   196   225   256   289   324   361   400]\n",
      " [  441   484   529   576   625   676   729   784   841   900]\n",
      " [  961  1024  1089  1156  1225  1296  1369  1444  1521  1600]\n",
      " [ 1681  1764  1849  1936  2025  2116  2209  2304  2401  2500]\n",
      " [ 2601  2704  2809  2916  3025  3136  3249  3364  3481  3600]\n",
      " [ 3721  3844  3969  4096  4225  4356  4489  4624  4761  4900]\n",
      " [ 5041  5184  5329  5476  5625  5776  5929  6084  6241  6400]\n",
      " [ 6561  6724  6889  7056  7225  7396  7569  7744  7921  8100]\n",
      " [ 8281  8464  8649  8836  9025  9216  9409  9604  9801 10000]]\n"
     ]
    }
   ],
   "source": [
    "#Creating a 10 by 10 array with squared numbers\n",
    "num = np.arange(1,101) #Generating an array with numbers from 1-100\n",
    "sqnum = num**2 #Square the numbers in the array\n",
    "sqnum10 = sqnum.reshape(10,10) #Reshape the array into 10 by 10 then store it in a new variable using .reshape()\n",
    "print('10by10 Squared Array: \\n', sqnum10)"
   ]
  },
  {
   "cell_type": "code",
   "execution_count": 49,
   "id": "1d2aee04-112c-48f5-88b2-4ed9be865d62",
   "metadata": {},
   "outputs": [
    {
     "name": "stdout",
     "output_type": "stream",
     "text": [
      "Divisible by 3 Array: \n",
      " [   9   36   81  144  225  324  441  576  729  900 1089 1296 1521 1764\n",
      " 2025 2304 2601 2916 3249 3600 3969 4356 4761 5184 5625 6084 6561 7056\n",
      " 7569 8100 8649 9216 9801]\n"
     ]
    }
   ],
   "source": [
    "divby3 = sqnum10[sqnum10%3 == 0] #Find all the numbers that are divisible by 3 and store it in a new variable\n",
    "print('Divisible by 3 Array: \\n', divby3)"
   ]
  },
  {
   "cell_type": "code",
   "execution_count": 51,
   "id": "12d8713d-e2c0-4357-b8de-15dc99df14d0",
   "metadata": {},
   "outputs": [],
   "source": [
    "np.save('div_by_3.npy', divby3) #Save the new array in a .npy file"
   ]
  },
  {
   "cell_type": "code",
   "execution_count": 53,
   "id": "495d10d9-0e5e-4ac3-ac64-8c09f1d7348d",
   "metadata": {},
   "outputs": [
    {
     "data": {
      "text/plain": [
       "array([   9,   36,   81,  144,  225,  324,  441,  576,  729,  900, 1089,\n",
       "       1296, 1521, 1764, 2025, 2304, 2601, 2916, 3249, 3600, 3969, 4356,\n",
       "       4761, 5184, 5625, 6084, 6561, 7056, 7569, 8100, 8649, 9216, 9801])"
      ]
     },
     "execution_count": 53,
     "metadata": {},
     "output_type": "execute_result"
    }
   ],
   "source": [
    "np.load('div_by_3.npy') #Load the file to check if the array is successfully saved"
   ]
  }
 ],
 "metadata": {
  "kernelspec": {
   "display_name": "Python 3 (ipykernel)",
   "language": "python",
   "name": "python3"
  },
  "language_info": {
   "codemirror_mode": {
    "name": "ipython",
    "version": 3
   },
   "file_extension": ".py",
   "mimetype": "text/x-python",
   "name": "python",
   "nbconvert_exporter": "python",
   "pygments_lexer": "ipython3",
   "version": "3.12.4"
  }
 },
 "nbformat": 4,
 "nbformat_minor": 5
}
